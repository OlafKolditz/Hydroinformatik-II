{
 "cells": [
  {
   "cell_type": "markdown",
   "metadata": {},
   "source": [
    "## Einleitung\n",
    "Lehrveranstaltung Hydroinformatik an der TU Dresden\n",
    "![Logo Tu Dresden](tu-dresden-blue.png)"
   ]
  },
  {
   "cell_type": "markdown",
   "metadata": {},
   "source": [
    "## Problemstellung: Diffusionsgleichung\n",
    "Die folgende Gleichung für Diffusionsprozesse soll gelöst werden:\n",
    "\\begin{eqnarray}\n",
    "\\frac{\\partial\\psi}{\\partial t}\n",
    "= \\alpha \\frac{\\partial^2\\psi}{\\partial x^2}\n",
    "\\end{eqnarray}\n",
    "\n",
    "Anfangsbedingungen: $\\psi(t=0,x)=1$\n",
    "\n",
    "Randbedingungen: $\\psi(t,x=0)=0$ , $\\psi(t,x=1)=0$"
   ]
  },
  {
   "cell_type": "markdown",
   "metadata": {},
   "source": [
    "## Analytische Lösung\n",
    "\\begin{eqnarray}\n",
    "\\psi(t,x) = sin (\\pi x) exp (-\\alpha\\pi^2 t)\n",
    "\\end{eqnarray}"
   ]
  },
  {
   "cell_type": "code",
   "execution_count": 7,
   "metadata": {},
   "outputs": [
    {
     "data": {
      "image/png": "[encoded data removed]",
      "text/plain": [
       "<Figure size 432x288 with 1 Axes>"
      ]
     },
     "metadata": {
      "needs_background": "light"
     },
     "output_type": "display_data"
    }
   ],
   "source": [
    "## Auswertung (plot)\n",
    "import math\n",
    "import matplotlib.pylab as plt\n",
    "PI = 3.14159265358979323846\n",
    "numPoints = 100\n",
    "alpha = 1.0\n",
    "#t = [0.01,0.1,0.2,0.5,1.0,1.5,2.0]\n",
    "t = [0.01]\n",
    "x = []\n",
    "y = []\n",
    "for n in t:\n",
    "    for i in range(0,numPoints+1):\n",
    "        x.append(float(i)/float(numPoints))\n",
    "        #y.append(math.sin(PI*x[i]) * math.exp(-alpha*n*n))\n",
    "        y.append(math.sin(math.pi*x[i]) * math.exp(-alpha*n*n))\n",
    "    plt.plot(x,y,color='blue')\n",
    "#    x = []\n",
    "#    y = []\n",
    "plt.xlabel('x')\n",
    "plt.ylabel('u')\n",
    "plt.axis('tight')\n",
    "plt.savefig(\"diffusion-equation.png\")\n",
    "plt.show()"
   ]
  },
  {
   "cell_type": "markdown",
   "metadata": {},
   "source": [
    "## Referenzen\n",
    "- Markdown https://www.markdownguide.org/cheat-sheet/"
   ]
  }
 ],
 "metadata": {
  "kernelspec": {
   "display_name": "Python 3",
   "language": "python",
   "name": "python3"
  },
  "language_info": {
   "codemirror_mode": {
    "name": "ipython",
    "version": 3
   },
   "file_extension": ".py",
   "mimetype": "text/x-python",
   "name": "python",
   "nbconvert_exporter": "python",
   "pygments_lexer": "ipython3",
   "version": "3.7.4"
  }
 },
 "nbformat": 4,
 "nbformat_minor": 4
}
