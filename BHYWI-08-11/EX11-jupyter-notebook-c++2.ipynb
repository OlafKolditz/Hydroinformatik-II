{
 "cells": [
  {
   "cell_type": "markdown",
   "metadata": {},
   "source": [
    "<!--- ![tu-dresden-blue.png](attachment:tu-dresden-blue.png) --->\n",
    "<img src=\"tu-dresden-blue.png\" alt=\"drawing\" width=\"200\"/>"
   ]
  },
  {
   "cell_type": "markdown",
   "metadata": {},
   "source": [
    "Professur für Angewandte Umweltsystemanalyse an der TU Dresden <br/>\n",
    "Prof. Dr.-Ing. habil. Olaf Kolditz <br/>\n",
    "***Hydroinformatik II (HyBHW-2-01)*** <br/>\n",
    "*[Lehre-Webseite](https://www.ufz.de/index.php?de=40425)*"
   ]
  },
  {
   "cell_type": "markdown",
   "metadata": {},
   "source": [
    "***Exercise EX10 - Open channel flow*** <br/>"
   ]
  },
  {
   "cell_type": "code",
   "execution_count": 1,
   "metadata": {
    "scrolled": true
   },
   "outputs": [
    {
     "name": "stdout",
     "output_type": "stream",
     "text": [
      "Hello Jupyter!\n",
      "This is Hydroinformatics II 2021: EX10 (open channel flow) on Jupter\n"
     ]
    }
   ],
   "source": [
    "#include <iostream>\n",
    "using namespace std;\n",
    "cout << \"Hello Jupyter!\" << endl;\n",
    "std::cout << \"This is Hydroinformatics II 2021: EX10 (open channel flow) on Jupter\" << std::endl;"
   ]
  },
  {
   "cell_type": "code",
   "execution_count": 2,
   "metadata": {},
   "outputs": [
    {
     "name": "stdout",
     "output_type": "stream",
     "text": [
      "0.1"
     ]
    }
   ],
   "source": [
    "#include <vector>\n",
    "#include <iostream>\n",
    "#include <fstream>\n",
    "using namespace std;\n",
    "int n=11;\n",
    "vector<double> u_new, u_old;\n",
    "ofstream out_file;\n",
    "out_file.open(\"out.txt\");\n",
    "ofstream out_python;\n",
    "out_python.open(\"out.csv\");\n",
    "//out_file.precision(3);\n",
    "u_new.resize(n);\n",
    "u_old.resize(n);\n",
    "double x[11];\n",
    "for(int i=0;i<n;i++)\n",
    "  x[i] = -100. + i*10.;\n",
    "double bottom_elevation[11];\n",
    "for(int i=0;i<n;i++)\n",
    "  bottom_elevation[i] = 0.04 - i*0.004;\n",
    "for(int i=0;i<n;i++)\n",
    "{\n",
    "  u_old[i] = 0.25;\n",
    "}\n",
    "// Randbedingungen\n",
    "u_old[10] = 0.1; // Wasserstand flußabwärts [m]\n",
    "u_new[10] = 0.1; // Wasserstand flußabwärts [m]\n",
    "cout << u_old[10];"
   ]
  },
  {
   "cell_type": "code",
   "execution_count": 3,
   "metadata": {},
   "outputs": [],
   "source": [
    "// Parameter (konstant)\n",
    "double discharge = 0.05; // Volumenfließrate [m3/s]\n",
    "double gravity = 9.81; // [m/s2]\n",
    "double friction_law_exponent = 0.5; // Chezy, Manning-Strickler [-]\n",
    "double error_tolerance = 1e-3; // [m]\n",
    "double bed_slope = 0.0004; // [m/m]\n",
    "double bottom_width = 1.; // [m]\n",
    "double m = 1.; //\n",
    "double friction_coefficient = 10.; //\n",
    "// Parameter (variabel)\n",
    "double wetted_cross_section[11];\n",
    "double water_level_elevation[11];\n",
    "double flow_velocity[11];\n",
    "double Froude_number[11];\n",
    "double wetted_perimeter[11];\n",
    "double hydraulic_radius[11];\n",
    "double friction_slope[11];"
   ]
  },
  {
   "cell_type": "code",
   "execution_count": 4,
   "metadata": {},
   "outputs": [
    {
     "name": "stdout",
     "output_type": "stream",
     "text": [
      "Newton error: 0.0759657"
     ]
    }
   ],
   "source": [
    "for(int i=0;i<n;i++)\n",
    "{\n",
    "  wetted_perimeter[i] = bottom_width + 2.*sqrt(1.+m*m)*u_old[i];\n",
    "  wetted_cross_section[i] = (bottom_width + m*u_old[i])*u_old[i];\n",
    "  hydraulic_radius[i] = wetted_cross_section[i] / wetted_perimeter[i];\n",
    "  water_level_elevation[i] = bottom_elevation[i] + u_old[i];\n",
    "  flow_velocity[i] = discharge/wetted_cross_section[i];\n",
    "  Froude_number[i] = flow_velocity[i]/(sqrt(gravity*wetted_cross_section[i]\\\n",
    "                   /sqrt(bottom_width*bottom_width+4.*m*wetted_cross_section[i])));\n",
    "  friction_slope[i] = pow(flow_velocity[i]/(friction_coefficient*pow(hydraulic_radius[i],friction_law_exponent)),2);\n",
    "}\n",
    "// Berechnungsgrößen\n",
    "double N,N1,N2,N3,D,D1,D2,D21,D22;\n",
    "double error;\n",
    "for(int i=0;i<n-1;i++)\n",
    "{\n",
    "  N1 = pow(discharge,2)/pow(wetted_cross_section[i+1],2) + gravity*u_old[i+1];\n",
    "  N2 = pow(discharge,2)/pow(wetted_cross_section[i],2) + gravity*u_old[i];\n",
    "  N3 = gravity*(bed_slope - (friction_slope[i+1]+friction_slope[i])/2.)*(x[i+1]-x[i]);\n",
    "  N = N1 - N2 - N3;\n",
    "  D1 = pow(discharge,2)/pow(wetted_cross_section[i],3) * (bottom_width+2.*m*u_old[i]) - gravity;\n",
    "  D21 = friction_law_exponent*2.*(sqrt(1+m*m))/wetted_perimeter[i];\n",
    "  D22 = (1.+friction_law_exponent)/wetted_cross_section[i] * (bottom_width+2.*m*u_old[i]);\n",
    "  D2 = gravity*friction_slope[i]*(D21-D22)*(x[i+1]-x[i]);\n",
    "  D = D1 + D2;\n",
    "  u_new[i] = u_old[i] - N/D;\n",
    "}\n",
    "//calc Newton error\n",
    "for(int i=0;i<n-1;i++)\n",
    "{\n",
    "  error += u_old[i] -u_new[i];\n",
    "}\n",
    "error = sqrt(error*error);\n",
    "cout << \"Newton error: \" << error;\n",
    "//save Newton step\n",
    "for(int i=0;i<n-1;i++)\n",
    "{\n",
    "  u_old[i] = u_new[i];\n",
    "}\n",
    "// Berechnung (1. Iteration des Newton-Verfahrens)\n",
    "// Ausgabe der Ergebnisse\n",
    "// File \n",
    "out_file << \"Water depth (new):\\t\";\n",
    "for(int i=0;i<n;i++)\n",
    "{\n",
    "  out_file << \"\\t\" << u_new[i] << \" \";\n",
    "}\n",
    "out_file << endl;\n",
    "// für Python plot\n",
    "for(int i=0;i<n;i++)\n",
    "{\n",
    "  out_python << x[i] << \",\" << u_new[i] << endl;\n",
    "}"
   ]
  },
  {
   "cell_type": "code",
   "execution_count": 5,
   "metadata": {},
   "outputs": [
    {
     "name": "stdout",
     "output_type": "stream",
     "text": [
      "Newton error: 0.0186149"
     ]
    }
   ],
   "source": [
    "for(int i=0;i<n;i++)\n",
    "{\n",
    "  wetted_perimeter[i] = bottom_width + 2.*sqrt(1.+m*m)*u_old[i];\n",
    "  wetted_cross_section[i] = (bottom_width + m*u_old[i])*u_old[i];\n",
    "  hydraulic_radius[i] = wetted_cross_section[i] / wetted_perimeter[i];\n",
    "  water_level_elevation[i] = bottom_elevation[i] + u_old[i];\n",
    "  flow_velocity[i] = discharge/wetted_cross_section[i];\n",
    "  Froude_number[i] = flow_velocity[i]/(sqrt(gravity*wetted_cross_section[i]\\\n",
    "                   /sqrt(bottom_width*bottom_width+4.*m*wetted_cross_section[i])));\n",
    "  friction_slope[i] = pow(flow_velocity[i]/(friction_coefficient*pow(hydraulic_radius[i],friction_law_exponent)),2);\n",
    "}\n",
    "// Berechnungsgrößen\n",
    "double N,N1,N2,N3,D,D1,D2,D21,D22;\n",
    "for(int i=0;i<n-1;i++)\n",
    "{\n",
    "  N1 = pow(discharge,2)/pow(wetted_cross_section[i+1],2) + gravity*u_old[i+1];\n",
    "  N2 = pow(discharge,2)/pow(wetted_cross_section[i],2) + gravity*u_old[i];\n",
    "  N3 = gravity*(bed_slope - (friction_slope[i+1]+friction_slope[i])/2.)*(x[i+1]-x[i]);\n",
    "  N = N1 - N2 - N3;\n",
    "  D1 = pow(discharge,2)/pow(wetted_cross_section[i],3) * (bottom_width+2.*m*u_old[i]) - gravity;\n",
    "  D21 = friction_law_exponent*2.*(sqrt(1+m*m))/wetted_perimeter[i];\n",
    "  D22 = (1.+friction_law_exponent)/wetted_cross_section[i] * (bottom_width+2.*m*u_old[i]);\n",
    "  D2 = gravity*friction_slope[i]*(D21-D22)*(x[i+1]-x[i]);\n",
    "  D = D1 + D2;\n",
    "  u_new[i] = u_old[i] - N/D;\n",
    "}\n",
    "//calc Newton error\n",
    "for(int i=0;i<n-1;i++)\n",
    "{\n",
    "  error += u_old[i] -u_new[i];\n",
    "}\n",
    "error = sqrt(error*error);\n",
    "cout << \"Newton error: \" << error;\n",
    "//save Newton step\n",
    "for(int i=0;i<n-1;i++)\n",
    "{\n",
    "  u_old[i] = u_new[i];\n",
    "}\n",
    "// Berechnung (2. Iteration des Newton-Verfahrens)\n",
    "// Ausgabe der Ergebnisse\n",
    "// File \n",
    "out_file << \"Water depth (new):\\t\";\n",
    "for(int i=0;i<n;i++)\n",
    "{\n",
    "  out_file << \"\\t\" << u_new[i] << \" \";\n",
    "}\n",
    "out_file << endl;\n",
    "// für Python plot\n",
    "for(int i=0;i<n;i++)\n",
    "{\n",
    "  out_python << x[i] << \",\" << u_new[i] << endl;\n",
    "}"
   ]
  },
  {
   "cell_type": "code",
   "execution_count": 6,
   "metadata": {},
   "outputs": [],
   "source": [
    "out_file.close();\n",
    "out_python.close();"
   ]
  },
  {
   "cell_type": "code",
   "execution_count": 1,
   "metadata": {},
   "outputs": [
    {
     "data": {
      "image/png": "[encoded data removed]",
      "text/plain": [
       "<Figure size 432x288 with 1 Axes>"
      ]
     },
     "metadata": {
      "needs_background": "light"
     },
     "output_type": "display_data"
    }
   ],
   "source": [
    "import matplotlib.pyplot as plt\n",
    "import csv\n",
    "x = []\n",
    "y = []\n",
    "with open('out.csv','r') as csvfile:\n",
    "    plots = csv.reader(csvfile, delimiter=',')\n",
    "    for row in plots:\n",
    "        x.append(float(row[0]))\n",
    "        y.append(float(row[1]))\n",
    "plt.plot(x,y, label='Data loaded from file: out.cvs')\n",
    "plt.xlabel('x')\n",
    "plt.ylabel('y')\n",
    "plt.title('Hydroinformatics II (Olaf Kolditz)\\nExercise BHYWI-08-11-for-python\\nNewton-Verfahren Gerinnehydraulik')\n",
    "plt.legend()\n",
    "plt.savefig(\"test1.png\")\n",
    "plt.show()"
   ]
  },
  {
   "cell_type": "code",
   "execution_count": null,
   "metadata": {},
   "outputs": [],
   "source": []
  }
 ],
 "metadata": {
  "kernelspec": {
   "display_name": "Python 3",
   "language": "python",
   "name": "python3"
  },
  "language_info": {
   "codemirror_mode": {
    "name": "ipython",
    "version": 3
   },
   "file_extension": ".py",
   "mimetype": "text/x-python",
   "name": "python",
   "nbconvert_exporter": "python",
   "pygments_lexer": "ipython3",
   "version": "3.8.5"
  }
 },
 "nbformat": 4,
 "nbformat_minor": 2
}
